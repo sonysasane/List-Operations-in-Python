{
 "cells": [
  {
   "cell_type": "code",
   "execution_count": 1,
   "metadata": {},
   "outputs": [],
   "source": [
    "#Data \n",
    "revenue = [14574.49, 7606.46, 8611.41, 9175.41, 8058.65, 8105.44, 11496.28, 9766.09, 10305.32, 14379.96, 10713.97, 15433.50]\n",
    "expenses = [12051.82, 5695.07, 12319.20, 12089.72, 8658.57, 840.20, 3285.73, 5821.12, 6976.93, 16618.61, 10054.37, 3803.96]"
   ]
  },
  {
   "cell_type": "code",
   "execution_count": 2,
   "metadata": {},
   "outputs": [
    {
     "data": {
      "text/plain": [
       "[-2522.67,\n",
       " -1911.3900000000003,\n",
       " 3707.790000000001,\n",
       " 2914.3099999999995,\n",
       " 599.9200000000001,\n",
       " -7265.24,\n",
       " -8210.550000000001,\n",
       " -3944.9700000000003,\n",
       " -3328.3899999999994,\n",
       " 2238.6500000000015,\n",
       " -659.5999999999985,\n",
       " -11629.54]"
      ]
     },
     "execution_count": 2,
     "metadata": {},
     "output_type": "execute_result"
    }
   ],
   "source": [
    "# profit\n",
    "\n",
    "profit = []\n",
    "\n",
    "for i in range(0, len(revenue)):\n",
    "    profit.append(expenses[i] - revenue[i])\n",
    "    \n",
    "profit"
   ]
  },
  {
   "cell_type": "code",
   "execution_count": 3,
   "metadata": {},
   "outputs": [
    {
     "data": {
      "text/plain": [
       "[0.0,\n",
       " 0.7,\n",
       " 1.4,\n",
       " 2.0999999999999996,\n",
       " 2.8,\n",
       " 3.5,\n",
       " 4.199999999999999,\n",
       " 4.8999999999999995,\n",
       " 5.6,\n",
       " 6.3,\n",
       " 7.0,\n",
       " 7.699999999999999]"
      ]
     },
     "execution_count": 3,
     "metadata": {},
     "output_type": "execute_result"
    }
   ],
   "source": [
    "#profit after tax for each month\n",
    "\n",
    "PAT = []\n",
    "\n",
    "for i in range(0, len(revenue)):\n",
    "    PAT.append(i * 0.7)\n",
    "    \n",
    "    \n",
    "PATRound =[i, 2]for i in range(0, len(PAT))\n"
   ]
  },
  {
   "cell_type": "code",
   "execution_count": null,
   "metadata": {},
   "outputs": [],
   "source": []
  }
 ],
 "metadata": {
  "kernelspec": {
   "display_name": "Python 3",
   "language": "python",
   "name": "python3"
  },
  "language_info": {
   "codemirror_mode": {
    "name": "ipython",
    "version": 3
   },
   "file_extension": ".py",
   "mimetype": "text/x-python",
   "name": "python",
   "nbconvert_exporter": "python",
   "pygments_lexer": "ipython3",
   "version": "3.7.0"
  }
 },
 "nbformat": 4,
 "nbformat_minor": 2
}
